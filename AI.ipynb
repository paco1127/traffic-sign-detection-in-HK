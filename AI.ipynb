{
  "cells": [
    {
      "cell_type": "markdown",
      "source": [
        "#This model can classify different traffic sign in Hong Kong\n",
        "'No Uturn', 'Turn Left', 'Turn Right', 'Give Way', 'Speed Limit', 'No Car', 'No Enter', 'Stop', 'No Turn Right', 'No Turn Left', 'Start Of No Stopping', 'End Of No Stopping', 'One Way Traffic', 'Turn Left(quick)', 'Turn Right(quick)', 'Parking', 'Two way', 'No Pedestrians', 'No Parking', 'Merging', 'Autotoll'"
      ],
      "metadata": {
        "id": "p-DLdnxH8l5N"
      }
    },
    {
      "cell_type": "markdown",
      "source": [
        "# Training"
      ],
      "metadata": {
        "id": "ou02p8KtzEkx"
      }
    },
    {
      "cell_type": "code",
      "source": [
        "%%capture\n",
        "#@markdown ##1. Train model with photo\n",
        "# download file and unzip\n",
        "!gdown --id 1tqZDNf-XmSDy-6BG2NmyhJi429EcY32D\n",
        "!unzip /content/Done.zip\n",
        "!pip install detecto --quiet\n",
        "from detecto import core, utils, visualize\n",
        "from detecto.visualize import show_labeled_image, plot_prediction_grid\n",
        "from torchvision import transforms\n",
        "import matplotlib.pyplot as plt\n",
        "import numpy as np\n",
        "from google.colab import files\n",
        "custom_transforms = transforms.Compose([\n",
        "transforms.ToPILImage(),\n",
        "transforms.Resize(900),\n",
        "transforms.RandomHorizontalFlip(0.5),\n",
        "transforms.ColorJitter(saturation=0.2),\n",
        "transforms.ToTensor(),\n",
        "utils.normalize_transform(),\n",
        "])\n",
        "Train_dataset=core.Dataset('Done/Train/',transform=custom_transforms)#L1\n",
        "Test_dataset = core.Dataset('Done/Test/')#L2\n",
        "loader=core.DataLoader(Train_dataset, batch_size=2, shuffle=True)#L3\n",
        "\n",
        "model = core.Model(['No Uturn', 'Turn Left', 'Turn Right', 'Give Way', 'Speed Limit', 'No Car', 'No Enter', 'Stop', 'No Turn Right', 'No Turn Left', 'Start Of No Stopping', 'End Of No Stopping', 'One Way Traffic', 'Turn Left(quick)', 'Turn Right(quick)', 'Parking', 'Two way', 'No Pedestrians', 'No Parking', 'Merging', 'Autotoll'])#L4\n",
        "losses = model.fit(loader, Test_dataset, epochs=25, lr_step_size=5, learning_rate=0.001, verbose=True)#L5\n",
        "model.save('model_weights.pth')\n",
        "# download the model\n",
        "#files.download('model_weights.pth')\n",
        "model = core.Model.load('model_weights.pth', ['No Uturn', 'Turn Left', 'Turn Right', 'Give Way', 'Speed Limit', 'No Car', 'No Enter', 'Stop', 'No Turn Right', 'No Turn Left', 'Start Of No Stopping', 'End Of No Stopping', 'One Way Traffic', 'Turn Left(quick)', 'Turn Right(quick)', 'Parking', 'Two way', 'No Pedestrians', 'No Parking', 'Merging', 'Autotoll'])"
      ],
      "metadata": {
        "id": "50l8E8uN5Z-9",
        "cellView": "form"
      },
      "execution_count": null,
      "outputs": []
    },
    {
      "cell_type": "markdown",
      "source": [
        "# Testing\n",
        "### Start here!"
      ],
      "metadata": {
        "id": "84K2-286fZgU"
      }
    },
    {
      "cell_type": "code",
      "source": [
        "#@markdown ##1. Upload .jpg file\n",
        "# download the model\n",
        "!gdown --id 1FV4SH9WivKGna3s1myWphyj4rQ8XBwyW\n",
        "!pip install detecto --quiet\n",
        "from detecto import core, utils, visualize\n",
        "from detecto.visualize import show_labeled_image, plot_prediction_grid\n",
        "from torchvision import transforms\n",
        "import matplotlib.pyplot as plt\n",
        "import numpy as np\n",
        "model = core.Model.load('model_weights.pth', ['No Uturn', 'Turn Left', 'Turn Right', 'Give Way', 'Speed Limit', 'No Car', 'No Enter', 'Stop', 'No Turn Right', 'No Turn Left', 'Start Of No Stopping', 'End Of No Stopping', 'One Way Traffic', 'Turn Left(quick)', 'Turn Right(quick)', 'Parking', 'Two way', 'No Pedestrians', 'No Parking', 'Merging', 'Autotoll'])\n",
        "\n",
        "from google.colab import files\n",
        "\n",
        "uploaded = files.upload()"
      ],
      "metadata": {
        "cellView": "form",
        "id": "DUWtL0YzvpuW"
      },
      "execution_count": null,
      "outputs": []
    },
    {
      "cell_type": "code",
      "source": [
        "#@markdown ##2. Run this\n",
        "\n",
        "image = utils.read_image(next(iter(uploaded)))\n",
        "predictions = model.predict(image)\n",
        "labels, boxes, scores = predictions\n",
        "\n",
        "for thresh in np.arange(0.1, 1.0, 0.05):\n",
        "    thresh = thresh.round(2)\n",
        "    filtered_indices = np.where(scores > thresh)\n",
        "    filtered_scores = scores[filtered_indices]\n",
        "    filtered_boxes = boxes[filtered_indices]\n",
        "    num_list = filtered_indices[0].tolist()\n",
        "    filtered_labels = [labels[i] for i in num_list]\n",
        "    print(thresh)\n",
        "    labeled_image = show_labeled_image(image, filtered_boxes, filtered_labels)\n",
        "    print(\"---------------------------------------------------------------------------------------------------------------------------------------------------\")"
      ],
      "metadata": {
        "id": "6YDEo5UJltL7",
        "cellView": "form"
      },
      "execution_count": null,
      "outputs": []
    }
  ],
  "metadata": {
    "accelerator": "GPU",
    "colab": {
      "provenance": [],
      "gpuType": "T4"
    },
    "kernelspec": {
      "display_name": "Python 3",
      "name": "python3"
    },
    "language_info": {
      "name": "python"
    }
  },
  "nbformat": 4,
  "nbformat_minor": 0
}